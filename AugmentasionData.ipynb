{
 "cells": [
  {
   "cell_type": "code",
   "execution_count": 1,
   "metadata": {},
   "outputs": [],
   "source": [
    "import cv2\n",
    "import os"
   ]
  },
  {
   "cell_type": "code",
   "execution_count": 2,
   "metadata": {},
   "outputs": [],
   "source": [
    "# Path folder yang berisi gambar-gambar yang akan di-augmentasi\n",
    "input_folder = \"Dataset\"\n",
    "# Path folder baru untuk menyimpan gambar-gambar hasil augmentasi\n",
    "output_folder = \"HasilAugmentasi\""
   ]
  },
  {
   "cell_type": "code",
   "execution_count": 3,
   "metadata": {},
   "outputs": [
    {
     "name": "stdout",
     "output_type": "stream",
     "text": [
      "Augmentasi selesai.\n"
     ]
    }
   ],
   "source": [
    "# Fungsi untuk melakukan flip horizontal dan vertical serta menyimpan gambar\n",
    "def augment_image(image_path, output_dir):\n",
    "    # Baca gambar menggunakan OpenCV\n",
    "    image = cv2.imread(image_path)\n",
    "    \n",
    "    # Lakukan flip horizontal\n",
    "    flipped_horizontal = cv2.flip(image, 1)\n",
    "    # Simpan gambar flip horizontal\n",
    "    output_path_horizontal = os.path.join(output_dir, os.path.basename(image_path).split('.')[0] + '_horizontal.jpg')\n",
    "    cv2.imwrite(output_path_horizontal, flipped_horizontal)\n",
    "\n",
    "    # Lakukan flip vertikal\n",
    "    flipped_vertical = cv2.flip(image, 0)\n",
    "    # Simpan gambar flip vertikal\n",
    "    output_path_vertical = os.path.join(output_dir, os.path.basename(image_path).split('.')[0] + '_vertical.jpg')\n",
    "    cv2.imwrite(output_path_vertical, flipped_vertical)\n",
    "\n",
    "# Pastikan folder output ada atau buat folder baru jika belum ada\n",
    "if not os.path.exists(output_folder):\n",
    "    os.makedirs(output_folder)\n",
    "\n",
    "# Loop melalui setiap file gambar di folder input\n",
    "for file_name in os.listdir(input_folder):\n",
    "    if file_name.endswith('.jpg') or file_name.endswith('.png'):\n",
    "        # Buat path lengkap untuk file gambar input\n",
    "        input_image_path = os.path.join(input_folder, file_name)\n",
    "        # Lakukan augmentasi dan simpan gambar-gambar yang sudah di-augmentasi\n",
    "        augment_image(input_image_path, output_folder)\n",
    "\n",
    "print(\"Augmentasi selesai.\")"
   ]
  }
 ],
 "metadata": {
  "kernelspec": {
   "display_name": "Python 3",
   "language": "python",
   "name": "python3"
  },
  "language_info": {
   "codemirror_mode": {
    "name": "ipython",
    "version": 3
   },
   "file_extension": ".py",
   "mimetype": "text/x-python",
   "name": "python",
   "nbconvert_exporter": "python",
   "pygments_lexer": "ipython3",
   "version": "3.11.1"
  }
 },
 "nbformat": 4,
 "nbformat_minor": 2
}
